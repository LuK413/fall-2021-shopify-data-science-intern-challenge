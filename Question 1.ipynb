{
 "cells": [
  {
   "cell_type": "code",
   "execution_count": 14,
   "id": "936ddbb8",
   "metadata": {},
   "outputs": [],
   "source": [
    "import pandas as pd\n",
    "import matplotlib.pyplot as plt\n",
    "import numpy as np\n",
    "from scipy import stats"
   ]
  },
  {
   "cell_type": "code",
   "execution_count": 2,
   "id": "7e365fc3",
   "metadata": {},
   "outputs": [],
   "source": [
    "shop_data = pd.read_csv('2019 Winter Data Science Intern Challenge Data Set - Sheet1.csv')"
   ]
  },
  {
   "cell_type": "markdown",
   "id": "90b6ca50",
   "metadata": {},
   "source": [
    "Initial inspection of data."
   ]
  },
  {
   "cell_type": "code",
   "execution_count": 3,
   "id": "147894e0",
   "metadata": {},
   "outputs": [
    {
     "data": {
      "text/html": [
       "<div>\n",
       "<style scoped>\n",
       "    .dataframe tbody tr th:only-of-type {\n",
       "        vertical-align: middle;\n",
       "    }\n",
       "\n",
       "    .dataframe tbody tr th {\n",
       "        vertical-align: top;\n",
       "    }\n",
       "\n",
       "    .dataframe thead th {\n",
       "        text-align: right;\n",
       "    }\n",
       "</style>\n",
       "<table border=\"1\" class=\"dataframe\">\n",
       "  <thead>\n",
       "    <tr style=\"text-align: right;\">\n",
       "      <th></th>\n",
       "      <th>order_id</th>\n",
       "      <th>shop_id</th>\n",
       "      <th>user_id</th>\n",
       "      <th>order_amount</th>\n",
       "      <th>total_items</th>\n",
       "      <th>payment_method</th>\n",
       "      <th>created_at</th>\n",
       "    </tr>\n",
       "  </thead>\n",
       "  <tbody>\n",
       "    <tr>\n",
       "      <th>0</th>\n",
       "      <td>1</td>\n",
       "      <td>53</td>\n",
       "      <td>746</td>\n",
       "      <td>224</td>\n",
       "      <td>2</td>\n",
       "      <td>cash</td>\n",
       "      <td>2017-03-13 12:36:56</td>\n",
       "    </tr>\n",
       "    <tr>\n",
       "      <th>1</th>\n",
       "      <td>2</td>\n",
       "      <td>92</td>\n",
       "      <td>925</td>\n",
       "      <td>90</td>\n",
       "      <td>1</td>\n",
       "      <td>cash</td>\n",
       "      <td>2017-03-03 17:38:52</td>\n",
       "    </tr>\n",
       "    <tr>\n",
       "      <th>2</th>\n",
       "      <td>3</td>\n",
       "      <td>44</td>\n",
       "      <td>861</td>\n",
       "      <td>144</td>\n",
       "      <td>1</td>\n",
       "      <td>cash</td>\n",
       "      <td>2017-03-14 4:23:56</td>\n",
       "    </tr>\n",
       "    <tr>\n",
       "      <th>3</th>\n",
       "      <td>4</td>\n",
       "      <td>18</td>\n",
       "      <td>935</td>\n",
       "      <td>156</td>\n",
       "      <td>1</td>\n",
       "      <td>credit_card</td>\n",
       "      <td>2017-03-26 12:43:37</td>\n",
       "    </tr>\n",
       "    <tr>\n",
       "      <th>4</th>\n",
       "      <td>5</td>\n",
       "      <td>18</td>\n",
       "      <td>883</td>\n",
       "      <td>156</td>\n",
       "      <td>1</td>\n",
       "      <td>credit_card</td>\n",
       "      <td>2017-03-01 4:35:11</td>\n",
       "    </tr>\n",
       "  </tbody>\n",
       "</table>\n",
       "</div>"
      ],
      "text/plain": [
       "   order_id  shop_id  user_id  order_amount  total_items payment_method  \\\n",
       "0         1       53      746           224            2           cash   \n",
       "1         2       92      925            90            1           cash   \n",
       "2         3       44      861           144            1           cash   \n",
       "3         4       18      935           156            1    credit_card   \n",
       "4         5       18      883           156            1    credit_card   \n",
       "\n",
       "            created_at  \n",
       "0  2017-03-13 12:36:56  \n",
       "1  2017-03-03 17:38:52  \n",
       "2   2017-03-14 4:23:56  \n",
       "3  2017-03-26 12:43:37  \n",
       "4   2017-03-01 4:35:11  "
      ]
     },
     "execution_count": 3,
     "metadata": {},
     "output_type": "execute_result"
    }
   ],
   "source": [
    "shop_data.head()"
   ]
  },
  {
   "cell_type": "markdown",
   "id": "1acca688",
   "metadata": {},
   "source": [
    "a. Initially, my thought is that the calculation may be actually correct, but there may be outliers. The average is sensitive. It is not a very robust measure of location and is easily influenced by outliers. To test this, I will verify the calculation. AOV can be calculated by adding all the order amounts together, then dividing by the number of orders."
   ]
  },
  {
   "cell_type": "code",
   "execution_count": 4,
   "id": "3563b6e2",
   "metadata": {},
   "outputs": [
    {
     "data": {
      "text/plain": [
       "3145.128"
      ]
     },
     "execution_count": 4,
     "metadata": {},
     "output_type": "execute_result"
    }
   ],
   "source": [
    "shop_data['order_amount'].sum() / len(shop_data)"
   ]
  },
  {
   "cell_type": "markdown",
   "id": "bfa0742e",
   "metadata": {},
   "source": [
    "Given this result, which rounds to $3145.13, I am confident that this calculation is in fact correct. We can look at the distribution and summary of `order_amount` to see what could be happening."
   ]
  },
  {
   "cell_type": "code",
   "execution_count": 5,
   "id": "a1cfb2f4",
   "metadata": {},
   "outputs": [
    {
     "data": {
      "text/plain": [
       "count      5000.000000\n",
       "mean       3145.128000\n",
       "std       41282.539349\n",
       "min          90.000000\n",
       "25%         163.000000\n",
       "50%         284.000000\n",
       "75%         390.000000\n",
       "max      704000.000000\n",
       "Name: order_amount, dtype: float64"
      ]
     },
     "execution_count": 5,
     "metadata": {},
     "output_type": "execute_result"
    }
   ],
   "source": [
    "shop_data['order_amount'].describe()"
   ]
  },
  {
   "cell_type": "markdown",
   "id": "b1334b5b",
   "metadata": {},
   "source": [
    "The summary statistics confirm that the calculation is in fact correct. The suspicions with the AOV is also immediately answered as well. The max value is $704,000 which is the reason for such a large AOV. "
   ]
  },
  {
   "cell_type": "code",
   "execution_count": 8,
   "id": "08492f47",
   "metadata": {},
   "outputs": [
    {
     "data": {
      "image/png": "[encoded data removed]",
      "text/plain": [
       "<Figure size 432x288 with 1 Axes>"
      ]
     },
     "metadata": {
      "needs_background": "light"
     },
     "output_type": "display_data"
    }
   ],
   "source": [
    "plt.hist(shop_data['order_amount'], bins = range(0, 800000, 50000))\n",
    "plt.xlabel('order_amount')\n",
    "plt.ylabel('Frequency')\n",
    "plt.title('order_amount Distribution')\n",
    "plt.show()"
   ]
  },
  {
   "cell_type": "code",
   "execution_count": 13,
   "id": "3136d580",
   "metadata": {},
   "outputs": [
    {
     "data": {
      "image/png": "[encoded data removed]",
      "text/plain": [
       "<Figure size 432x288 with 1 Axes>"
      ]
     },
     "metadata": {
      "needs_background": "light"
     },
     "output_type": "display_data"
    }
   ],
   "source": [
    "plt.boxplot(shop_data['order_amount'])\n",
    "plt.xlabel('')\n",
    "plt.ylabel('order_amount')\n",
    "plt.title('Boxplot of the order_amount')\n",
    "plt.show()"
   ]
  },
  {
   "cell_type": "markdown",
   "id": "c387b4cc",
   "metadata": {},
   "source": [
    "This hypothesis is further reinforced through the above histogram and boxplot. The majority of the orders is are between 0 to 50000 dollars, but there are several that are greater.\n",
    "\n",
    "Other attributes can be chosen for a more robust measure of location. Several examples include:\n",
    "* median\n",
    "* trimmed mean\n",
    "\n",
    "\n",
    "The median is robust since it relies on order statistics. Extreme values will not affect it as much. In fact, the breakdown point is 1/2, whereas for the mean it is 1/N, where N is the size of the population. From the above summary statistics, the median is determined to be 284 dollars."
   ]
  },
  {
   "cell_type": "code",
   "execution_count": 12,
   "id": "35695ada",
   "metadata": {},
   "outputs": [
    {
     "data": {
      "text/plain": [
       "284.0"
      ]
     },
     "execution_count": 12,
     "metadata": {},
     "output_type": "execute_result"
    }
   ],
   "source": [
    "np.median(shop_data['order_amount'])"
   ]
  },
  {
   "cell_type": "markdown",
   "id": "4db602c4",
   "metadata": {},
   "source": [
    "The trimmed mean could also be used since it removes outliers to calculate the mean. It is not as robust as the median, especially if there are many outliers on only one tail of the distribution. If there are so many outliers on one tail that it is beyond the breakdown point, then a greater trim may be required. Below, a 5% trimmed mean is calculated."
   ]
  },
  {
   "cell_type": "code",
   "execution_count": 15,
   "id": "b3e1a3ef",
   "metadata": {},
   "outputs": [
    {
     "data": {
      "text/plain": [
       "294.3933333333333"
      ]
     },
     "execution_count": 15,
     "metadata": {},
     "output_type": "execute_result"
    }
   ],
   "source": [
    "stats.trim_mean(shop_data['order_amount'], 0.05)"
   ]
  },
  {
   "cell_type": "markdown",
   "id": "d12ec448",
   "metadata": {},
   "source": [
    "b) The metric that I would report for this data set would be the median order value. It is similar to the average order value, just calculated using a different measure of center, which is far more robust and in this scenario, captures the central tendencies of the data far better than the average."
   ]
  },
  {
   "cell_type": "markdown",
   "id": "5b17c14a",
   "metadata": {},
   "source": [
    "c) The median is 284 dollars."
   ]
  }
 ],
 "metadata": {
  "kernelspec": {
   "display_name": "Python 3",
   "language": "python",
   "name": "python3"
  },
  "language_info": {
   "codemirror_mode": {
    "name": "ipython",
    "version": 3
   },
   "file_extension": ".py",
   "mimetype": "text/x-python",
   "name": "python",
   "nbconvert_exporter": "python",
   "pygments_lexer": "ipython3",
   "version": "3.8.8"
  }
 },
 "nbformat": 4,
 "nbformat_minor": 5
}
